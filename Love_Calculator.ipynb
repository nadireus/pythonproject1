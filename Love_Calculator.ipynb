{
  "nbformat": 4,
  "nbformat_minor": 0,
  "metadata": {
    "colab": {
      "name": "Love Calculator.ipynb",
      "provenance": [],
      "authorship_tag": "ABX9TyOEsI4Ula0w7TcaKS8Z9BD8",
      "include_colab_link": true
    },
    "kernelspec": {
      "name": "python3",
      "display_name": "Python 3"
    },
    "language_info": {
      "name": "python"
    }
  },
  "cells": [
    {
      "cell_type": "markdown",
      "metadata": {
        "id": "view-in-github",
        "colab_type": "text"
      },
      "source": [
        "<a href=\"https://colab.research.google.com/github/nadireus/pythonproject1/blob/main/Love_Calculator.ipynb\" target=\"_parent\"><img src=\"https://colab.research.google.com/assets/colab-badge.svg\" alt=\"Open In Colab\"/></a>"
      ]
    },
    {
      "cell_type": "markdown",
      "source": [
        "we are going to write a program that tests the compatibility between two people.\n",
        "\n",
        "To work out the love score between two people:\n",
        "\n",
        "Take both people's names and check for the number of times the letters in the word TRUE occurs. Then check for the number of times the letters in the word LOVE occurs. Then combine these numbers to make a 2 digit number.\n",
        "\n",
        "For Love Scores less than 10 or greater than 90, the message should be:\n",
        "\n",
        "\"your score is **x**, we go together like coke and mentos.\"\n",
        "\n",
        "For Love Scores between 40 and 50, the message should be:\n",
        "\n",
        "\"your score is **y**, we are alright together.\"\n",
        "\n",
        "Otherwise, the message will just be their score. e.g.:\n",
        "\n",
        "\"your score is **z**.\""
      ],
      "metadata": {
        "id": "n_F-7V0wDe7s"
      }
    },
    {
      "cell_type": "code",
      "execution_count": 3,
      "metadata": {
        "colab": {
          "base_uri": "https://localhost:8080/"
        },
        "id": "7G1aCnA8nldN",
        "outputId": "998c20de-89ff-4819-8fea-f0fa46d55cc6"
      },
      "outputs": [
        {
          "output_type": "stream",
          "name": "stdout",
          "text": [
            "Welcome to the Love Calculator!\n",
            "What is your name? \n",
            "nursel\n",
            "What is their name? \n",
            "mehmet\n",
            "Your score is 64.\n"
          ]
        }
      ],
      "source": [
        "#🚨\n",
        "print(\"Welcome to the Love Calculator!\")\n",
        "name1 = input(\"What is your name? \\n\")\n",
        "name2 = input(\"What is their name? \\n\")\n",
        "\n",
        "\n",
        "# 👇\n",
        "\n",
        "combined_names = name1 + name2\n",
        "lower_names = combined_names.lower()\n",
        "t = lower_names.count(\"t\")\n",
        "r = lower_names.count(\"r\")\n",
        "u = lower_names.count(\"u\")\n",
        "e = lower_names.count(\"e\")\n",
        "first_digit = t + r + u + e\n",
        "\n",
        "l = lower_names.count(\"l\")\n",
        "o = lower_names.count(\"o\")\n",
        "v = lower_names.count(\"v\")\n",
        "e = lower_names.count(\"e\")\n",
        "second_digit = l + o + v + e\n",
        "\n",
        "score = int(str(first_digit) + str(second_digit))\n",
        "\n",
        "if (score < 10) or (score > 90):\n",
        "  print(f\"Your score is {score}, you go together like coke and mentos.\")\n",
        "elif (score >= 40) and (score <= 50):\n",
        "  print(f\"Your score is {score}, you are alright together.\")\n",
        "else:\n",
        "  print(f\"Your score is {score}.\")"
      ]
    }
  ]
}