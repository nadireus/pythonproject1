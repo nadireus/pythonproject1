{
  "nbformat": 4,
  "nbformat_minor": 0,
  "metadata": {
    "colab": {
      "name": "Hangman.ipynb",
      "provenance": [],
      "authorship_tag": "ABX9TyPFbwBFQNSvSvvile/sYvSU",
      "include_colab_link": true
    },
    "kernelspec": {
      "name": "python3",
      "display_name": "Python 3"
    },
    "language_info": {
      "name": "python"
    }
  },
  "cells": [
    {
      "cell_type": "markdown",
      "metadata": {
        "id": "view-in-github",
        "colab_type": "text"
      },
      "source": [
        "<a href=\"https://colab.research.google.com/github/nadireus/pythonproject1/blob/main/Hangman.ipynb\" target=\"_parent\"><img src=\"https://colab.research.google.com/assets/colab-badge.svg\" alt=\"Open In Colab\"/></a>"
      ]
    },
    {
      "cell_type": "code",
      "execution_count": null,
      "metadata": {
        "id": "F-zGHWJLmouG"
      },
      "outputs": [],
      "source": [
        "import random\n",
        "from hangman_art import stages, logo\n",
        "from hangman_words import word_list\n",
        "from replit import clear\n",
        "\n",
        "print(logo)\n",
        "game_is_finished = False\n",
        "lives = len(stages) - 1\n",
        "\n",
        "chosen_word = random.choice(word_list)\n",
        "word_length = len(chosen_word)\n",
        "\n",
        "display = []\n",
        "for _ in range(word_length):\n",
        "    display += \"_\"\n",
        "\n",
        "while not game_is_finished:\n",
        "    guess = input(\"Guess a letter: \").lower()\n",
        "\n",
        "    #Use the clear() function imported from replit to clear the output between guesses.\n",
        "    clear()\n",
        "\n",
        "    if guess in display:\n",
        "        print(f\"You've already guessed {guess}\")\n",
        "\n",
        "    for position in range(word_length):\n",
        "        letter = chosen_word[position]\n",
        "        if letter == guess:\n",
        "            display[position] = letter\n",
        "    print(f\"{' '.join(display)}\")\n",
        "\n",
        "    if guess not in chosen_word:\n",
        "        print(f\"You guessed {guess}, that's not in the word. You lose a life.\")\n",
        "        lives -= 1\n",
        "        if lives == 0:\n",
        "            game_is_finished = True\n",
        "            print(\"You lose.\")\n",
        "    \n",
        "    if not \"_\" in display:\n",
        "        game_is_finished = True\n",
        "        print(\"You win.\")\n",
        "\n",
        "    print(stages[lives])"
      ]
    }
  ]
}