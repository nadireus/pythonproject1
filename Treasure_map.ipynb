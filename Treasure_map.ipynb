{
  "nbformat": 4,
  "nbformat_minor": 0,
  "metadata": {
    "colab": {
      "name": "Treasure_map.ipynb",
      "provenance": [],
      "collapsed_sections": [],
      "authorship_tag": "ABX9TyPD4ORfKu/J2b94CflrhxRU",
      "include_colab_link": true
    },
    "kernelspec": {
      "name": "python3",
      "display_name": "Python 3"
    },
    "language_info": {
      "name": "python"
    }
  },
  "cells": [
    {
      "cell_type": "markdown",
      "metadata": {
        "id": "view-in-github",
        "colab_type": "text"
      },
      "source": [
        "<a href=\"https://colab.research.google.com/github/nadireus/pythonproject1/blob/main/Treasure_map.ipynb\" target=\"_parent\"><img src=\"https://colab.research.google.com/assets/colab-badge.svg\" alt=\"Open In Colab\"/></a>"
      ]
    },
    {
      "cell_type": "markdown",
      "source": [
        "Treasure Map\n",
        "UPDATE\n",
        "We've moved away from repl.it for coding exercises. Check out the new exercises on Coding Rooms with automated submissions.\n",
        "\n",
        "\n",
        "\n",
        "Instructions\n",
        "You are going to write a program which will mark a spot with an X.\n",
        "\n",
        "In the starting code, you will find a variable called map.\n",
        "\n",
        "This map contains a nested list. When map is printed this is what the nested list looks like:\n",
        "\n",
        "['⬜️', '⬜️', '⬜️'],['⬜️', '⬜️', '⬜️'],['⬜️', '⬜️', '⬜️']\n",
        "['⬜️', '⬜️', '⬜️'],['⬜️', '⬜️', '⬜️'],['⬜️', '⬜️', '⬜️']\n",
        "In the starting code, we have used new lines (\\n) to format the three rows into a square, like this:\n",
        "\n",
        "['⬜️', '⬜️', '⬜️']\n",
        "['⬜️', '⬜️', '⬜️']\n",
        "['⬜️', '⬜️', '⬜️']\n",
        "['⬜️', '⬜️', '⬜️']\n",
        "['⬜️', '⬜️', '⬜️']\n",
        "['⬜️', '⬜️', '⬜️']\n",
        "This is to try and simulate the coordinates on a real map.\n",
        "\n",
        "\n",
        "\n",
        "Your job is to write a program that allows you to mark a square on the map using a two-digit system. The first digit is the vertical column number and the second digit is the horizontal row number. e.g.:\n",
        "\n",
        "https://cdn.fs.teachablecdn.com/2vnboIYTFFruvl9FJ2w5\n",
        "\n",
        "First your program must take the user input and convert it to a usable format.\n",
        "\n",
        "Next, you need to use it to update your nested list with an \"x\".\n",
        "\n",
        "Example Input 1\n",
        "column 2, row 3 would be entered as:\n",
        "\n",
        "23\n",
        "23\n",
        "Example Output 1\n",
        "['⬜️', '⬜️', '⬜️']\n",
        "​\n",
        "['⬜️', '⬜️', '⬜️']\n",
        "​\n",
        "['⬜️', 'X', '⬜️']\n",
        "['⬜️', '⬜️', '⬜️']\n",
        "\n",
        "['⬜️', '⬜️', '⬜️']\n",
        "\n",
        "['⬜️', 'X', '⬜️']\n",
        "Example Input 2\n",
        "column 3, row 1 would be entered as:\n",
        "\n",
        "31\n",
        "31\n",
        "Example Output 2\n",
        "['⬜️', '⬜️', 'X']\n",
        "​\n",
        "['⬜️', '⬜️', '⬜️']\n",
        "​\n",
        "['⬜️', '⬜️', '⬜️']\n",
        "['⬜️', '⬜️', 'X']\n",
        "\n",
        "['⬜️', '⬜️', '⬜️']\n",
        "\n",
        "['⬜️', '⬜️', '⬜️']\n",
        "e.g. When you hit run, this is what should happen:"
      ],
      "metadata": {
        "id": "zmcJYBQuVVqC"
      }
    },
    {
      "cell_type": "code",
      "execution_count": 2,
      "metadata": {
        "colab": {
          "base_uri": "https://localhost:8080/"
        },
        "id": "NOjRxhQ2lBJ-",
        "outputId": "6b8903f7-8d1a-48ba-9fc3-f424e58a7e3a"
      },
      "outputs": [
        {
          "output_type": "stream",
          "name": "stdout",
          "text": [
            "['⬜️', '️⬜️', '️⬜️']\n",
            "['⬜️', '⬜️', '️⬜️']\n",
            "['⬜️️', '⬜️️', '⬜️️']\n",
            "Where do you want to put the treasure? 23\n",
            "['⬜️', '️⬜️', '️⬜️']\n",
            "['⬜️', '⬜️', '️⬜️']\n",
            "['⬜️️', 'X', '⬜️️']\n"
          ]
        }
      ],
      "source": [
        "row1 = [\"⬜️\",\"️⬜️\",\"️⬜️\"]\n",
        "row2 = [\"⬜️\",\"⬜️\",\"️⬜️\"]\n",
        "row3 = [\"⬜️️\",\"⬜️️\",\"⬜️️\"]\n",
        "map = [row1, row2, row3]\n",
        "print(f\"{row1}\\n{row2}\\n{row3}\")\n",
        "\n",
        "position = input(\"Where do you want to put the treasure? \")\n",
        "\n",
        "horizontal = int(position[0])\n",
        "vertical = int(position[1])\n",
        "\n",
        "map[vertical - 1][horizontal - 1] = \"X\"\n",
        "\n",
        "print(f\"{row1}\\n{row2}\\n{row3}\")"
      ]
    }
  ]
}