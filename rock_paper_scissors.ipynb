{
  "nbformat": 4,
  "nbformat_minor": 0,
  "metadata": {
    "colab": {
      "name": "rock_paper_scissors.ipynb",
      "provenance": [],
      "authorship_tag": "ABX9TyOIURPYi5qiF1GEvEv64+Lg",
      "include_colab_link": true
    },
    "kernelspec": {
      "name": "python3",
      "display_name": "Python 3"
    },
    "language_info": {
      "name": "python"
    }
  },
  "cells": [
    {
      "cell_type": "markdown",
      "metadata": {
        "id": "view-in-github",
        "colab_type": "text"
      },
      "source": [
        "<a href=\"https://colab.research.google.com/github/nadireus/pythonproject1/blob/main/rock_paper_scissors.ipynb\" target=\"_parent\"><img src=\"https://colab.research.google.com/assets/colab-badge.svg\" alt=\"Open In Colab\"/></a>"
      ]
    },
    {
      "cell_type": "markdown",
      "source": [
        "make a rock, paper, scissors game.\n",
        "\n",
        "Inside the main.py file, you'll find the ASCII art for the hand signals already saved to a corresponding variable: rock, paper, and scissors. This will make it easy to print them out to the console.\n",
        "\n",
        "Start the game by asking the player:\n",
        "\n",
        "\"What do you choose? Type 0 for Rock, 1 for Paper or 2 for Scissors.\"\n",
        "\n",
        "From there you will need to figure out:\n",
        "\n",
        "How you will store the user's input.\n",
        "How you will generate a random choice for the computer.\n",
        "How you will compare the user's and the computer's choice to determine the winner (or a draw).\n",
        "And also how you will give feedback to the player.\n",
        "You can find the \"official\" rules of the game on the World Rock Paper Scissors Association website.\n",
        "\n",
        "Debugging challenge\n",
        "Try running this code and type 5.\n",
        "\n",
        "It will give you an IndexError and point to line 32 as the issue.\n",
        "\n",
        "But on line 38 we are trying to prevent a crash by detecting any numbers great than or equal to 3 or less than 0.\n",
        "\n",
        "So what's going on? Can you debug the code and fix it?"
      ],
      "metadata": {
        "id": "xKJgvx9fXRcu"
      }
    },
    {
      "cell_type": "code",
      "execution_count": 8,
      "metadata": {
        "colab": {
          "base_uri": "https://localhost:8080/"
        },
        "id": "mo3y9WZlW7di",
        "outputId": "6536fb07-5bc0-41f9-926c-9941b04a68e1"
      },
      "outputs": [
        {
          "output_type": "stream",
          "name": "stdout",
          "text": [
            "What do you choose? Type 0 for Rock, 1 for Paper or 2 for Scissors.\n",
            "0\n",
            "\n",
            "    _______\n",
            "---'   ____)____\n",
            "          ______)\n",
            "          _______)\n",
            "         _______)\n",
            "---.__________)\n",
            "\n",
            "Computer chose:\n",
            "\n",
            "    _______\n",
            "---'   ____)\n",
            "      (_____)\n",
            "      (_____)\n",
            "      (____)\n",
            "---.__(___)\n",
            "\n",
            "You lose\n"
          ]
        }
      ],
      "source": [
        "import random\n",
        "\n",
        "rock = '''\n",
        "    _______\n",
        "---'   ____)\n",
        "      (_____)\n",
        "      (_____)\n",
        "      (____)\n",
        "---.__(___)\n",
        "'''\n",
        "\n",
        "paper = '''\n",
        "    _______\n",
        "---'   ____)____\n",
        "          ______)\n",
        "          _______)\n",
        "         _______)\n",
        "---.__________)\n",
        "'''\n",
        "\n",
        "scissors = '''\n",
        "    _______\n",
        "---'   ____)____\n",
        "          ______)\n",
        "       __________)\n",
        "      (____)\n",
        "---.__(___)\n",
        "'''\n",
        "\n",
        "game_images = [rock, paper, scissors]\n",
        "\n",
        "user_choice = int(input(\"What do you choose? Type 0 for Rock, 1 for Paper or 2 for Scissors.\\n\"))\n",
        "\n",
        "computer_choice = random.randint(0, 2)\n",
        "if user_choice >= 3 or user_choice < 0: \n",
        "     print(\"You typed an invalid number, you lose!\")\n",
        "else:\n",
        "\n",
        "    print(game_images[computer_choice])\n",
        "    print(\"Computer chose:\")\n",
        "    print(game_images[user_choice])\n",
        "\n",
        "    \n",
        "\n",
        "    if user_choice == 0 and computer_choice == 2:\n",
        "          print(\"You win!\")\n",
        "    elif computer_choice == 0 and user_choice == 2:\n",
        "          print(\"You lose\")\n",
        "    elif computer_choice > user_choice:\n",
        "          print(\"You lose\")\n",
        "    elif user_choice > computer_choice:\n",
        "          print(\"You win!\")\n",
        "    elif computer_choice == user_choice:\n",
        "          print(\"It's a draw\")"
      ]
    }
  ]
}