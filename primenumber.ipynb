{
  "nbformat": 4,
  "nbformat_minor": 0,
  "metadata": {
    "colab": {
      "name": "Untitled0.ipynb",
      "provenance": [],
      "collapsed_sections": []
    },
    "kernelspec": {
      "name": "python3",
      "display_name": "Python 3"
    },
    "language_info": {
      "name": "python"
    }
  },
  "cells": [
    {
      "cell_type": "code",
      "metadata": {
        "colab": {
          "base_uri": "https://localhost:8080/"
        },
        "id": "xcHMnsqw3ipW",
        "outputId": "ab55fd94-353d-4a2e-e091-6e2f91845fd5"
      },
      "source": [
        "a = int(input(\"give a number between 0 and 99 to check if it is prime or not :)\"))\n",
        "\n",
        "prime_list = [x for x in range(2, 100)\n",
        "                   if all(x % y != 0 for y in range(2, x))]\n",
        "if a in prime_list:\n",
        "    print(f\"{a} is a prime number\")\n",
        "else:\n",
        "    print(f\"{a} is not a prime number\")\n"
      ],
      "execution_count": 2,
      "outputs": [
        {
          "output_type": "stream",
          "text": [
            "give a number between 0 and 99 to check if it is prime or not)2\n",
            "2 is a prime number\n"
          ],
          "name": "stdout"
        }
      ]
    }
  ]
}