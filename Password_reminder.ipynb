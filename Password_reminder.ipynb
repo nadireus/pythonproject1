{
  "nbformat": 4,
  "nbformat_minor": 0,
  "metadata": {
    "colab": {
      "name": "Password_reminder.ipynb",
      "provenance": [],
      "authorship_tag": "ABX9TyMYDEZMiQ2YWO6VhRqJ9tok",
      "include_colab_link": true
    },
    "kernelspec": {
      "name": "python3",
      "display_name": "Python 3"
    },
    "language_info": {
      "name": "python"
    }
  },
  "cells": [
    {
      "cell_type": "markdown",
      "metadata": {
        "id": "view-in-github",
        "colab_type": "text"
      },
      "source": [
        "<a href=\"https://colab.research.google.com/github/nadireus/pythonproject1/blob/main/Password_reminder.ipynb\" target=\"_parent\"><img src=\"https://colab.research.google.com/assets/colab-badge.svg\" alt=\"Open In Colab\"/></a>"
      ]
    },
    {
      "cell_type": "code",
      "metadata": {
        "id": "2I2ZcQsASSFX",
        "colab": {
          "base_uri": "https://localhost:8080/"
        },
        "outputId": "06f8effe-97a8-4d39-db1a-5490ec164c15"
      },
      "source": [
        "default_user = \"nadire\"\n",
        "default_password = (\"1k5\\\"*7-n2ad@1r\")\n",
        "entered_user_name = input(\"Enter your user name in order to get your default password: \")\n",
        "if entered_user_name == default_user :\n",
        "  print(f\"Hello  {default_user}!\\nYour password is {default_password}\")\n",
        "else :\n",
        "   print(f\"Hello {entered_user_name}!\\nLearn the right name and come again. See you later!\")"
      ],
      "execution_count": 1,
      "outputs": [
        {
          "output_type": "stream",
          "text": [
            "Enter your user name in order to get your default password: nadire\n",
            "Hello  nadire!\n",
            "Your password is 1k5\"*7-n2ad@1r\n"
          ],
          "name": "stdout"
        }
      ]
    }
  ]
}